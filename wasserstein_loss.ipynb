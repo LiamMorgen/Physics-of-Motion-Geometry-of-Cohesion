{
 "cells": [
  {
   "cell_type": "code",
   "execution_count": 1,
   "metadata": {},
   "outputs": [],
   "source": [
    "import torch\n",
    "import torch.nn as nn\n",
    "import torch.nn.functional as F\n",
    "\n",
    "from pytorch3d.transforms import quaternion_multiply, quaternion_to_matrix"
   ]
  },
  {
   "cell_type": "code",
   "execution_count": 2,
   "metadata": {},
   "outputs": [],
   "source": [
    "## Wasserstein of two gaussians\n",
    "class WassersteinGaussian(nn.Module):\n",
    "    def __init__(self):\n",
    "        super(WassersteinGaussian, self).__init__()\n",
    "\n",
    "    def forward(self, loc1, scale1, rot_matrix1, loc2, scale2, rot_matrix2):\n",
    "        \"\"\"\n",
    "        compute the Wasserstein distance between two Gaussians\n",
    "        loc1, loc2: Bx3\n",
    "        scale1, scale2: Bx3\n",
    "        rot_matrix1, rot_matrix2: Bx3x3\n",
    "        \"\"\"\n",
    "        \n",
    "        loc_diff2 = torch.sum((loc1 - loc2)**2, dim=-1)\n",
    "\n",
    "        ## Wasserstein distance Tr(C1 + C2 - 2(C1^0.5 * C2 * C1^0.5)^0.5)\n",
    "\n",
    "        cov1_sqrt_diag = torch.sqrt(scale1).diag_embed() # Bx3x3\n",
    "\n",
    "        cov2 = torch.bmm(rot_matrix2, torch.bmm(torch.diag_embed(scale2), rot_matrix2.transpose(1, 2))) # covariance matrix Bx3x3\n",
    "        cov2_R1 = torch.bmm(rot_matrix1.transpose(1, 2), cov2).matmul(rot_matrix1) # Bx3x3\n",
    "        # E = cv1^0.5*cv2*cv1^0.5\n",
    "\n",
    "        E = torch.bmm(torch.bmm(cov1_sqrt_diag, cov2_R1), cov1_sqrt_diag) # Bx3x3\n",
    "\n",
    "        E = (E + E.transpose(1, 2))/2\n",
    "        E_eign = torch.linalg.eigvalsh(E)\n",
    "\n",
    "\n",
    "        E_sqrt_trace = (E_eign.pow(2).pow(1/4)).sum(dim=-1)\n",
    "\n",
    "        CovWasserstein = scale1.sum(dim=-1) + scale2.sum(dim=-1) - 2*E_sqrt_trace\n",
    "        \n",
    "        CovWasserstein = torch.clamp(CovWasserstein, min=0) # numerical stability for small negative values\n",
    "\n",
    "        return torch.sqrt(loc_diff2 + CovWasserstein)"
   ]
  },
  {
   "cell_type": "code",
   "execution_count": 3,
   "metadata": {},
   "outputs": [
    {
     "data": {
      "text/plain": [
       "tensor([2.9402, 2.8001, 2.2903])"
      ]
     },
     "execution_count": 3,
     "metadata": {},
     "output_type": "execute_result"
    }
   ],
   "source": [
    "B = 6 # batch size\n",
    "loc = torch.randn(B, 3) # location Bx3\n",
    "rot = torch.randn(B, 4) # quaternion Bx4\n",
    "rot = F.normalize(rot, p=2, dim=1) # normalize quaternion\n",
    "scale = torch.randn(B, 3) # scale Bx3\n",
    "scale = torch.exp(scale) # make sure scale is positive\n",
    "\n",
    "# convert quaternion to rotation matrix\n",
    "rot_matrix = quaternion_to_matrix(rot) # rotation matrix Bx3x3\n",
    "cov = torch.bmm(rot_matrix, torch.bmm(torch.diag_embed(scale), rot_matrix.transpose(1, 2))) # covariance matrix Bx3x3\n",
    "\n",
    "\n",
    "\n",
    "wasserstein = WassersteinGaussian()\n",
    "wasserstein(loc[:3], scale[:3], rot_matrix[:3], loc[3:], scale[3:], rot_matrix[3:])"
   ]
  },
  {
   "cell_type": "markdown",
   "metadata": {},
   "source": [
    "#### 以下为 Junli 的代码"
   ]
  },
  {
   "cell_type": "code",
   "execution_count": 4,
   "metadata": {},
   "outputs": [
    {
     "name": "stdout",
     "output_type": "stream",
     "text": [
      "w_distance: tensor([0.0014, 0.0000, 0.0010])\n"
     ]
    }
   ],
   "source": [
    "w_distance = wasserstein(loc[:3], scale[:3], rot_matrix[:3], loc[:3], scale[:3], rot_matrix[:3])\n",
    "# print(\"loc1:\", loc[:3])\n",
    "# print(\"loc2:\", loc[3:])\n",
    "print(\"w_distance:\", w_distance)"
   ]
  },
  {
   "cell_type": "code",
   "execution_count": 5,
   "metadata": {},
   "outputs": [
    {
     "name": "stdout",
     "output_type": "stream",
     "text": [
      "rot_matrix: tensor([[[ 0.6218,  0.3789,  0.6854],\n",
      "         [ 0.6160,  0.3038, -0.7268],\n",
      "         [-0.4836,  0.8742, -0.0445]],\n",
      "\n",
      "        [[ 0.0127,  0.7638,  0.6454],\n",
      "         [ 0.9186, -0.2639,  0.2943],\n",
      "         [ 0.3950,  0.5891, -0.7049]],\n",
      "\n",
      "        [[-0.2254, -0.2956,  0.9283],\n",
      "         [ 0.8773, -0.4760,  0.0615],\n",
      "         [ 0.4237,  0.8283,  0.3666]]])\n",
      "rot_matrix_diff: tensor([[[ 0.6213,  0.3766,  0.6867],\n",
      "         [ 0.6166,  0.3043, -0.7273],\n",
      "         [-0.4854,  0.8741, -0.0460]],\n",
      "\n",
      "        [[ 0.0134,  0.7649,  0.6452],\n",
      "         [ 0.9181, -0.2651,  0.2948],\n",
      "         [ 0.3952,  0.5887, -0.7048]],\n",
      "\n",
      "        [[-0.2265, -0.2958,  0.9279],\n",
      "         [ 0.8795, -0.4752,  0.0600],\n",
      "         [ 0.4248,  0.8278,  0.3665]]])\n",
      "w_distance: tensor([0.0000, 0.0221, 0.0000])\n"
     ]
    }
   ],
   "source": [
    "# 一样的loc 和 scale，一样的rot_matrix\n",
    "rot_matrix_diff = rot_matrix[:3] + 0.001 * torch.randn(3, 3, 3)\n",
    "print(\"rot_matrix:\", rot_matrix[:3])\n",
    "print(\"rot_matrix_diff:\", rot_matrix_diff)\n",
    "w_distance = wasserstein(loc[:3], scale[:3], rot_matrix[:3], loc[:3], scale[:3], rot_matrix_diff[:3])\n",
    "# print(\"loc1:\", loc[:3])\n",
    "# print(\"loc2:\", loc[:3])\n",
    "# print(\"rot_matrix1:\", rot_matrix[:3])\n",
    "# print(\"rot_matrix2:\", rot_matrix[3:])\n",
    "print(\"w_distance:\", w_distance)\n",
    "\n"
   ]
  },
  {
   "cell_type": "code",
   "execution_count": 6,
   "metadata": {},
   "outputs": [],
   "source": [
    "from einops import einsum"
   ]
  },
  {
   "cell_type": "code",
   "execution_count": 7,
   "metadata": {},
   "outputs": [],
   "source": [
    "## Wasserstein of two gaussians\n",
    "class WassersteinExp(nn.Module):\n",
    "    def __init__(self):\n",
    "        super(WassersteinExp, self).__init__()\n",
    "\n",
    "    def forward(self, loc, scale1, rot_matrix1, velocity, velocity_cov):\n",
    "        \"\"\"\n",
    "        compute the Wasserstein Exponential of X from A\n",
    "        loc: Bx3\n",
    "        scale1: Bx3\n",
    "        rot_matrix1: Bx3x3\n",
    "        velocity: Bx3\n",
    "        velocity_cov: Bx3x3 \n",
    "        \"\"\"\n",
    "        new_loc = loc + velocity\n",
    "\n",
    "        # new_cov = exp_A(X)\n",
    "        C_ij = rot_matrix1.transpose(1, 2).bmm(velocity_cov).bmm(rot_matrix1)\n",
    "\n",
    "       \n",
    "        E_ij = scale1.unsqueeze(-1) + scale1.unsqueeze(-2) # Bx3x3\n",
    "        E_ij = C_ij/(E_ij+1e-8) # Bx3x3\n",
    "\n",
    "        gamma = torch.bmm(rot_matrix1, torch.bmm(E_ij, rot_matrix1.transpose(1, 2)))\n",
    "\n",
    "        cov = torch.bmm(rot_matrix1, torch.bmm(torch.diag_embed(scale1), rot_matrix1.transpose(1, 2))) # covariance matrix Bx3x3\n",
    "\n",
    "        new_cov = cov + velocity_cov + gamma.bmm(cov).bmm(gamma.transpose(1, 2))\n",
    "\n",
    "        return new_loc, new_cov\n",
    "\n",
    "\n",
    "\n",
    "\n",
    "\n",
    "        \n",
    "## Gaussian Merge\n",
    "class GaussianMerge(nn.Module):\n",
    "    def __init__(self):\n",
    "        super(GaussianMerge, self).__init__()\n",
    "\n",
    "    def forward(self, loc1, scale1, rot_matrix1, loc2, scale2, rot_matrix2):\n",
    "        \"\"\"\n",
    "        merge two Gaussians\n",
    "        loc1, loc2: Bx3\n",
    "        scale1, scale2: Bx3\n",
    "        rot_matrix1, rot_matrix2: Bx3x3\n",
    "        \"\"\"\n",
    "        \n",
    "        cov1 = torch.bmm(rot_matrix1, torch.bmm(torch.diag_embed(scale1), rot_matrix1.transpose(1, 2))) # covariance matrix Bx3x3\n",
    "        cov2 = torch.bmm(rot_matrix2, torch.bmm(torch.diag_embed(scale2), rot_matrix2.transpose(1, 2)))\n",
    "\n",
    "        K = cov1.matmul((cov1 + cov2).inverse())\n",
    "        loc_new = loc1.unsqueeze(1) + (loc2.unsqueeze(1) - loc1.unsqueeze(1)).bmm(K.transpose(1, 2))\n",
    "        loc_new = loc_new.squeeze(1)\n",
    "        cov_new = cov1 + K.matmul(cov1)\n",
    "\n",
    "        return loc_new, cov_new\n",
    "\n",
    "\n",
    "\n",
    "\n",
    "        \n"
   ]
  },
  {
   "cell_type": "code",
   "execution_count": 8,
   "metadata": {},
   "outputs": [],
   "source": [
    "B = 6 # batch size\n",
    "loc = torch.randn(B, 3) # location Bx3\n",
    "rot = torch.randn(B, 4) # quaternion Bx4\n",
    "rot = F.normalize(rot, p=2, dim=1) # normalize quaternion\n",
    "scale = torch.randn(B, 3) # scale Bx3\n",
    "\n",
    "# convert quaternion to rotation matrix\n",
    "rot_matrix = quaternion_to_matrix(rot) # rotation matrix Bx3x3\n",
    "cov = torch.bmm(rot_matrix, torch.bmm(torch.diag_embed(scale), rot_matrix.transpose(1, 2))) # covariance matrix Bx3x3\n",
    "\n",
    "velocity = torch.randn(B, 3) # velocity Bx3\n",
    "velocity_cov = torch.randn(B, 3, 3) # velocity covariance Bx3x3\n",
    "velocity_cov = velocity_cov.transpose(-1, -2) + velocity_cov # make sure it is symmetric\n",
    "\n",
    "wasserstein_exp = WassersteinExp()\n",
    "gaussian_merge = GaussianMerge()"
   ]
  },
  {
   "cell_type": "code",
   "execution_count": 9,
   "metadata": {},
   "outputs": [
    {
     "data": {
      "text/plain": [
       "(tensor([[ 0.2802, -1.2681, -1.7694],\n",
       "         [-0.2062, -0.1605,  0.5394],\n",
       "         [-0.4850,  0.6407,  1.0364],\n",
       "         [-0.4175,  2.8751,  0.0866],\n",
       "         [-0.4916, -3.3968, -3.4293],\n",
       "         [ 1.0917,  0.5907,  0.6577]]),\n",
       " tensor([[[ -0.1895,   2.7206,  -2.1079],\n",
       "          [  2.7206,  -7.0439,   0.6326],\n",
       "          [ -2.1079,   0.6326,   3.8252]],\n",
       " \n",
       "         [[ 14.1999,   3.6922,   7.2304],\n",
       "          [  3.6922,  -2.2090,   1.4793],\n",
       "          [  7.2304,   1.4793,   1.1822]],\n",
       " \n",
       "         [[  2.8330,   5.0632,  -2.2236],\n",
       "          [  5.0632,   4.5879,  -3.8400],\n",
       "          [ -2.2236,  -3.8400,  -3.8684]],\n",
       " \n",
       "         [[ 91.6318,  24.4132, -45.2467],\n",
       "          [ 24.4132,   6.4690, -12.0736],\n",
       "          [-45.2467, -12.0736,  21.9829]],\n",
       " \n",
       "         [[ -0.1989,  -0.4289,  -0.6315],\n",
       "          [ -0.4289,  -0.4784,  -0.2688],\n",
       "          [ -0.6315,  -0.2688,   0.4564]],\n",
       " \n",
       "         [[ -3.7768,  -0.3736,   0.5976],\n",
       "          [ -0.3736,  -1.6217,   0.8700],\n",
       "          [  0.5976,   0.8700,  -3.7201]]]))"
      ]
     },
     "execution_count": 9,
     "metadata": {},
     "output_type": "execute_result"
    }
   ],
   "source": [
    "wasserstein_exp(loc, scale, rot_matrix, velocity, velocity_cov)\n",
    "\n"
   ]
  },
  {
   "cell_type": "code",
   "execution_count": 10,
   "metadata": {},
   "outputs": [
    {
     "data": {
      "text/plain": [
       "(tensor([[ -1.3708,   1.9326,   2.3334],\n",
       "         [  1.3164,  -0.6882,   1.3025],\n",
       "         [ 22.7209, -12.4017, -41.7697],\n",
       "         [ -2.5780,  -1.7663,  -0.9087],\n",
       "         [  0.4079,   1.0293,   0.6521],\n",
       "         [  1.9538,  -1.9284,   0.9281]]),\n",
       " tensor([[[ -1.0256,  -1.0545,  -0.7546],\n",
       "          [ -1.0545,   0.6748,   0.7623],\n",
       "          [ -0.7546,   0.7623,  -0.4141]],\n",
       " \n",
       "         [[ -2.8576,   0.1648,  -1.8476],\n",
       "          [  0.1648,  -1.3947,   0.0564],\n",
       "          [ -1.8476,   0.0564,  -5.0289]],\n",
       " \n",
       "         [[  8.7650,  -7.0034, -20.6040],\n",
       "          [ -7.0034,   3.3736,  11.6706],\n",
       "          [-20.6040,  11.6706,  40.9157]],\n",
       " \n",
       "         [[ -9.7553,  -5.1141,  -1.7618],\n",
       "          [ -5.1141,  -4.0525,  -1.1451],\n",
       "          [ -1.7618,  -1.1451,  -0.2236]],\n",
       " \n",
       "         [[ -0.8428,  -0.4747,   0.3794],\n",
       "          [ -0.4747,  -0.5156,   0.1640],\n",
       "          [  0.3794,   0.1640,   0.1407]],\n",
       " \n",
       "         [[  0.0899,   0.5777,  -0.1069],\n",
       "          [  0.5777,  -0.1246,  -1.2848],\n",
       "          [ -0.1069,  -1.2848,   0.9162]]]))"
      ]
     },
     "execution_count": 10,
     "metadata": {},
     "output_type": "execute_result"
    }
   ],
   "source": [
    "loc1 = torch.randn(B, 3) # location Bx3\n",
    "rot1 = torch.randn(B, 4) # quaternion Bx4\n",
    "rot1 = F.normalize(rot1, p=2, dim=1) # normalize quaternion\n",
    "scale1 = torch.randn(B, 3) # scale Bx3\n",
    "\n",
    "# convert quaternion to rotation matrix\n",
    "rot_matrix1 = quaternion_to_matrix(rot1) # rotation matrix Bx3x3\n",
    "\n",
    "loc2 = torch.randn(B, 3) # location Bx3\n",
    "rot2 = torch.randn(B, 4) # quaternion Bx4\n",
    "rot2 = F.normalize(rot2, p=2, dim=1) # normalize quaternion\n",
    "scale2 = torch.randn(B, 3) # scale Bx3\n",
    "\n",
    "# convert quaternion to rotation matrix\n",
    "rot_matrix2 = quaternion_to_matrix(rot2) # rotation matrix Bx3x3\n",
    "\n",
    "gaussian_merge(loc1, scale1, rot_matrix1, loc2, scale2, rot_matrix2)"
   ]
  },
  {
   "cell_type": "code",
   "execution_count": 11,
   "metadata": {},
   "outputs": [
    {
     "ename": "SyntaxError",
     "evalue": "invalid syntax (2731323126.py, line 2)",
     "output_type": "error",
     "traceback": [
      "\u001b[0;36m  Cell \u001b[0;32mIn[11], line 2\u001b[0;36m\u001b[0m\n\u001b[0;31m    class\u001b[0m\n\u001b[0m          ^\u001b[0m\n\u001b[0;31mSyntaxError\u001b[0m\u001b[0;31m:\u001b[0m invalid syntax\n"
     ]
    }
   ],
   "source": [
    "## Wasserstein of two gaussians\n",
    "class "
   ]
  }
 ],
 "metadata": {
  "kernelspec": {
   "display_name": "Python 3 (ipykernel)",
   "language": "python",
   "name": "python3"
  },
  "language_info": {
   "codemirror_mode": {
    "name": "ipython",
    "version": 3
   },
   "file_extension": ".py",
   "mimetype": "text/x-python",
   "name": "python",
   "nbconvert_exporter": "python",
   "pygments_lexer": "ipython3",
   "version": "3.8.19"
  }
 },
 "nbformat": 4,
 "nbformat_minor": 4
}
