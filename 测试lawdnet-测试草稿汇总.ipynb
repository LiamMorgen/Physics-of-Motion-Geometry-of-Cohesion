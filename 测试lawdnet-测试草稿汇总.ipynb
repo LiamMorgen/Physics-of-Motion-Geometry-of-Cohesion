{
 "cells": [
  {
   "cell_type": "code",
   "execution_count": 5,
   "id": "b72db016-94e5-431a-8873-c253017ff672",
   "metadata": {
    "tags": []
   },
   "outputs": [],
   "source": [
    "import os\n",
    "import torch\n",
    "import numpy as np\n",
    "import torch.nn.functional as F\n",
    "import subprocess\n",
    "\n",
    "def standard_grid(size,batch_size=1,device='cuda'):\n",
    "    \"\"\"\n",
    "    equivalent to \n",
    "    grid_trans = torch.eye(4).unsqueeze(0)\n",
    "    F.affine_grid(grid_trans[:,:3,:], torch.Size((1, 3, D,H,W)))\n",
    "    but more efficient and flexible\n",
    "\n",
    "    size: (H,W) or (D,H,W)\n",
    "\n",
    "    return: (B,H,W,2) or (B,D,H,W,3)\n",
    "\n",
    "    \"\"\"\n",
    "\n",
    "    dim = len(size)\n",
    "\n",
    "    axis = []\n",
    "    for i in size:\n",
    "        tmp = torch.linspace(-1+1/i, 1-1/i, i, device=device)\n",
    "        \n",
    "        axis.append(tmp)\n",
    "    \n",
    "    grid = torch.stack(torch.meshgrid(axis), dim=-1)\n",
    "    print(\"grid.shape1:\",grid.shape)\n",
    "\n",
    "    grid = torch.flip(grid, dims=[-1]).contiguous()\n",
    "    print(\"grid.shape2:\",grid.shape)\n",
    "\n",
    "    batch_grid = grid.unsqueeze(0).repeat((batch_size,)+(1,)*(dim+1))\n",
    "    print(\"(batch_size,)+(1,)*(dim+1):\",(batch_size,)+(1,)*(dim+1))\n",
    "\n",
    "    return batch_grid"
   ]
  },
  {
   "cell_type": "code",
   "execution_count": 6,
   "id": "659b62dd-0459-4e83-b42e-b5336e305539",
   "metadata": {
    "tags": []
   },
   "outputs": [],
   "source": [
    "# print(\"grid.shape:\",grid.shape)"
   ]
  },
  {
   "cell_type": "code",
   "execution_count": 17,
   "id": "2d477bc7-c988-4165-be1c-6c0c06a1ff91",
   "metadata": {
    "tags": []
   },
   "outputs": [
    {
     "name": "stdout",
     "output_type": "stream",
     "text": [
      "grid.shape1: torch.Size([60, 60, 2])\n",
      "grid.shape2: torch.Size([60, 60, 2])\n",
      "(batch_size,)+(1,)*(dim+1): (1, 1, 1, 1)\n",
      "sg: (1, 60, 60, 2)\n"
     ]
    },
    {
     "data": {
      "text/plain": [
       "<matplotlib.image.AxesImage at 0x7f3342bca7f0>"
      ]
     },
     "execution_count": 17,
     "metadata": {},
     "output_type": "execute_result"
    },
    {
     "data": {
      "image/png": "[encoded data removed]",
      "text/plain": [
       "<Figure size 640x480 with 1 Axes>"
      ]
     },
     "metadata": {},
     "output_type": "display_data"
    }
   ],
   "source": [
    "sg = standard_grid((60,60),1).cpu().numpy()\n",
    "print(\"sg:\",sg.shape)\n",
    "## 可视化sg\n",
    "\n",
    "import matplotlib.pyplot as plt\n",
    "## 可视化 sg 为二维图像，所以只取第一个维度\n",
    "\n",
    "plt.imshow(sg[0,:,:,0])\n",
    "print(\"sg[0,:,:,0]\",sg[0,:,:,0] )"
   ]
  },
  {
   "cell_type": "code",
   "execution_count": 8,
   "id": "720ce58f-8a45-4c9f-806a-725b9e43f94e",
   "metadata": {
    "tags": []
   },
   "outputs": [
    {
     "data": {
      "text/plain": [
       "torch.Size([1, 60, 60, 2])"
      ]
     },
     "execution_count": 8,
     "metadata": {},
     "output_type": "execute_result"
    }
   ],
   "source": [
    "sg.shape"
   ]
  },
  {
   "cell_type": "code",
   "execution_count": 16,
   "id": "b7b0edff-792b-4b12-869e-6f36c67ff5c7",
   "metadata": {
    "tags": []
   },
   "outputs": [
    {
     "name": "stdout",
     "output_type": "stream",
     "text": [
      "grid_trans: tensor([[[1., 0., 0., 0.],\n",
      "         [0., 1., 0., 0.],\n",
      "         [0., 0., 1., 0.],\n",
      "         [0., 0., 0., 1.]]])\n",
      "grid_trans: torch.Size([1, 4, 4])\n",
      "torch.Size([1, 1, 60, 60, 3])\n",
      "grid_trans[:,:3,:] tensor([[[1., 0., 0., 0.],\n",
      "         [0., 1., 0., 0.],\n",
      "         [0., 0., 1., 0.]]])\n"
     ]
    },
    {
     "name": "stderr",
     "output_type": "stream",
     "text": [
      "/root/miniconda3/lib/python3.8/site-packages/torch/nn/functional.py:4298: UserWarning: Default grid_sample and affine_grid behavior has changed to align_corners=False since 1.3.0. Please specify align_corners=True if the old behavior is desired. See the documentation of grid_sample for details.\n",
      "  warnings.warn(\n"
     ]
    }
   ],
   "source": [
    "H = W = 60\n",
    "D = 1\n",
    "grid_trans = torch.eye(4).unsqueeze(0)\n",
    "sg2 = F.affine_grid(grid_trans[:,:3,:], torch.Size((1, 3, D, H, W)))\n",
    "print(\"grid_trans:\",grid_trans)\n",
    "print(\"grid_trans:\",grid_trans.shape)\n",
    "print(sg2.shape)\n",
    "print(\"grid_trans[:,:3,:]\",grid_trans[:,:3,:])"
   ]
  },
  {
   "cell_type": "code",
   "execution_count": 10,
   "id": "9eab270d-868f-4fcd-9973-394c250a750e",
   "metadata": {
    "tags": []
   },
   "outputs": [
    {
     "data": {
      "text/plain": [
       "tensor([[[1., 0., 0., 0.],\n",
       "         [0., 1., 0., 0.],\n",
       "         [0., 0., 1., 0.],\n",
       "         [0., 0., 0., 1.]]])"
      ]
     },
     "execution_count": 10,
     "metadata": {},
     "output_type": "execute_result"
    }
   ],
   "source": [
    "grid_trans"
   ]
  },
  {
   "cell_type": "code",
   "execution_count": 1,
   "id": "5901f2b6-545c-431f-adef-4e257b832fcc",
   "metadata": {
    "tags": []
   },
   "outputs": [],
   "source": [
    "# 将mp4视频的第一帧放到指定文件夹\n",
    "import cv2\n",
    "import os\n",
    "\n",
    "def extract_first_frame(source_folder, target_folder):\n",
    "    for video_name in os.listdir(source_folder):\n",
    "        if video_name.endswith('.mp4'):\n",
    "            video_path = os.path.join(source_folder, video_name)\n",
    "            cap = cv2.VideoCapture(video_path)\n",
    "            ret, frame = cap.read()\n",
    "            if ret:\n",
    "                frame_name = os.path.splitext(video_name)[0] + '.jpg'\n",
    "                frame_path = os.path.join(target_folder, frame_name)\n",
    "                cv2.imwrite(frame_path, frame)\n",
    "            cap.release()\n",
    "\n",
    "# 使用方法\n",
    "source_folder = '/root/autodl-tmp/训练视频数据'\n",
    "target_folder = '/root/autodl-tmp/MICA/demo/input'\n",
    "extract_first_frame(source_folder, target_folder)"
   ]
  },
  {
   "cell_type": "code",
   "execution_count": 2,
   "id": "0a794b30-af89-4bf1-b4a5-2531debe41eb",
   "metadata": {},
   "outputs": [],
   "source": [
    "import cv2\n",
    "\n",
    "def convert_mp4_to_avi(mp4_video_path, avi_video_path):\n",
    "    # 创建VideoCapture对象\n",
    "    cap = cv2.VideoCapture(mp4_video_path)\n",
    "\n",
    "    # 获取视频的宽度和高度\n",
    "    frame_width = int(cap.get(cv2.CAP_PROP_FRAME_WIDTH))\n",
    "    frame_height = int(cap.get(cv2.CAP_PROP_FRAME_HEIGHT))\n",
    "\n",
    "    # 创建VideoWriter对象\n",
    "    fourcc = cv2.VideoWriter_fourcc(*'XVID')\n",
    "    out = cv2.VideoWriter(avi_video_path, fourcc, 25, (frame_width, frame_height))\n",
    "\n",
    "    while(cap.isOpened()):\n",
    "        ret, frame = cap.read()\n",
    "        if ret == True:\n",
    "            out.write(frame)\n",
    "        else:\n",
    "            break\n",
    "\n",
    "    # 释放资源\n",
    "    cap.release()\n",
    "    out.release()\n",
    "\n",
    "# 使用方法\n",
    "source = '/root/autodl-tmp/训练视频数据/WDA_TedLieu_000_25fps.mp4'\n",
    "target = '/root/autodl-tmp/metrical-tracker/input/WDA_TedLieu_000_25fps/WDA_TedLieu_000_25fps.avi'\n",
    "\n",
    "convert_mp4_to_avi(source, target)"
   ]
  },
  {
   "cell_type": "code",
   "execution_count": null,
   "id": "0a43db9e",
   "metadata": {},
   "outputs": [],
   "source": [
    "## 执行 MICA 算法，获取 FLAME 的 shape 参数，保存在 identity.npy 文件\n",
    "def extract_identity(input_folder, output_folder):\n",
    "    # 构建命令行参数\n",
    "    cmd = [\n",
    "        'python', 'demo.py',\n",
    "        '-i', input_folder,\n",
    "        '-o', output_folder,\n",
    "        # '-a', arcface_folder,\n",
    "        # '-m', model_path\n",
    "    ]\n",
    "\n",
    "    # 调用subprocess.run执行命令\n",
    "    subprocess.run(cmd)"
   ]
  },
  {
   "cell_type": "code",
   "execution_count": null,
   "id": "64e8def3",
   "metadata": {},
   "outputs": [],
   "source": [
    "import os\n",
    "import yaml\n",
    "\n",
    "def generate_yml_for_idnames(source_path, target_directory='/root/autodl-tmp/FlashAvatar-code/metrical-tracker/configs/actors'):\n",
    "    # 确保目标目录存在\n",
    "    target_directory = target_directory\n",
    "    os.makedirs(target_directory, exist_ok=True)\n",
    "    \n",
    "    # 遍历 source_path 下的每个子目录\n",
    "    for idname in os.listdir(source_path):\n",
    "        idname_path = os.path.join(source_path, idname)\n",
    "        if os.path.isdir(idname_path):\n",
    "            # 这里创建一个示例配置字典，实际情况下你可能需要根据实际情况来填充\n",
    "            config_dict = {\n",
    "                'actor': f'./input/{idname}',\n",
    "                'save_folder': './output/',\n",
    "                'optimize_shape': True,\n",
    "                'optimize_jaw': True,\n",
    "                'begin_frames': 1,\n",
    "                'keyframes': [0, 1]\n",
    "            }\n",
    "            \n",
    "            # 生成 YML 文件路径\n",
    "            yml_file_path = os.path.join(target_directory, f\"{idname}.yml\")\n",
    "            \n",
    "            # 保存配置字典到 YML 文件\n",
    "            with open(yml_file_path, 'w') as yml_file:\n",
    "                yaml.dump(config_dict, yml_file)\n",
    "\n",
    "# # 调用函数\n",
    "# source_path = 'MICA_output_identity_shape'\n",
    "# generate_yml_for_idnames(source_path)\n"
   ]
  },
  {
   "cell_type": "code",
   "execution_count": null,
   "id": "a2d61b7e",
   "metadata": {},
   "outputs": [],
   "source": [
    "import subprocess\n",
    "import os\n",
    "\n",
    "def execute_tracker_for_all_idnames(configs_directory):\n",
    "    # 遍历 configs_directory 下的每个 YML 文件\n",
    "    for config_file in os.listdir(configs_directory):\n",
    "        if config_file.endswith('.yml'):\n",
    "            # 构建命令行指令\n",
    "            command = f\"python tracker.py --cfg ./configs/actors/{config_file}\"\n",
    "            \n",
    "            # 在命令行中执行指令\n",
    "            try:\n",
    "                # 这里使用 subprocess.run()，注意shell=True的安全警告\n",
    "                result = subprocess.run(command, shell=True, check=True, stdout=subprocess.PIPE, stderr=subprocess.PIPE)\n",
    "                print(f\"成功执行: {config_file}\\n{result.stdout.decode('utf-8')}\")\n",
    "            except subprocess.CalledProcessError as e:\n",
    "                print(f\"执行失败: {config_file}\\n错误信息: {e.stderr.decode('utf-8')}\")\n",
    "\n",
    "# 调用函数\n",
    "# configs_directory = '/root/autodl-tmp/FlashAvatar-code/metrical-tracker/configs/actors'\n",
    "# execute_tracker_for_all_idnames(configs_directory)\n"
   ]
  },
  {
   "cell_type": "markdown",
   "id": "dbd6e293",
   "metadata": {},
   "source": [
    "### 做FlashAvatar数据集的脚本"
   ]
  },
  {
   "cell_type": "code",
   "execution_count": null,
   "id": "24367a95",
   "metadata": {},
   "outputs": [],
   "source": [
    "## 提取视频首帧到文件夹：\n",
    "source_folder = '/root/autodl-tmp/训练视频数据' # 存放每个idname的mp4文件\n",
    "MICA_input_frame = '/root/autodl-tmp/MICA/demo/input' # 存放每个idname的第一帧\n",
    "extract_first_frame(source_folder, MICA_input_frame)\n",
    "print(\"提取视频首帧到文件夹完成\")\n",
    "\n",
    "\n",
    "## 从 MICA_input_frame 文件夹中获取 id_name\n",
    "\n",
    "\n",
    "## 执行 MICA 算法，获取 FLAME 的 shape 参数，保存在 identity.npy 文件\n",
    "MICA_output_identity_shape = f'/root/autodl-tmp/FlashAvatar-code/metrical-tracker/input/' # 存放每个idname的shape参数\n",
    "os.makedirs(MICA_output_identity_shape, exist_ok=True)\n",
    "extract_identity(MICA_input_frame, MICA_output_identity_shape)\n",
    "\n",
    "## 为每个 id_name 制作 yml 文件\n",
    "tracker_config_dir =  '/root/autodl-tmp/FlashAvatar-code/metrical-tracker/configs/actors' # 存放每个idname的yml文件\n",
    "generate_yml_for_idnames(MICA_output_identity_shape, tracker_config_dir)\n",
    "\n",
    "# 根据 yml 文件执行 MICA 算法，获取 FLAME 的 shape 参数，保存在 /root/autodl-tmp/FlashAvatar-code/metrical-tracker/output\n",
    "\n",
    "execute_tracker_for_all_idnames(tracker_config_dir)\n",
    "\n",
    "'''\n",
    "此时 FlashAvatar 的数据集已经准备好了，可以开始训练了\n",
    "'''\n",
    "\n",
    "\n"
   ]
  }
 ],
 "metadata": {
  "kernelspec": {
   "display_name": "Python 3 (ipykernel)",
   "language": "python",
   "name": "python3"
  },
  "language_info": {
   "codemirror_mode": {
    "name": "ipython",
    "version": 3
   },
   "file_extension": ".py",
   "mimetype": "text/x-python",
   "name": "python",
   "nbconvert_exporter": "python",
   "pygments_lexer": "ipython3",
   "version": "3.8.10"
  }
 },
 "nbformat": 4,
 "nbformat_minor": 5
}
