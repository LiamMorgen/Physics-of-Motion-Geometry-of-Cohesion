{
 "cells": [
  {
   "cell_type": "code",
   "execution_count": 1,
   "id": "2e32c248-49cb-4962-a2ad-f4d9c8ddbd8a",
   "metadata": {
    "tags": []
   },
   "outputs": [],
   "source": [
    "import torch\n",
    "from torch import nn\n",
    "import torchvision.transforms as transforms\n",
    "from PIL import Image\n",
    "import cv2\n",
    "import numpy as np\n",
    "import os\n",
    "import os.path as osp\n",
    "\n",
    "# 假设你的模型定义在 model.py 文件中\n",
    "from model import BiSeNet\n",
    "\n",
    "# 如果你有自定义的日志配置\n",
    "from logger import setup_logger\n",
    "from tqdm import tqdm"
   ]
  },
  {
   "cell_type": "markdown",
   "id": "8e07c621",
   "metadata": {},
   "source": [
    "### png 转 jpg\n",
    "准备训练图像 jpg"
   ]
  },
  {
   "cell_type": "code",
   "execution_count": 2,
   "id": "d748fe60",
   "metadata": {},
   "outputs": [],
   "source": [
    "from PIL import Image\n",
    "import os\n",
    "from tqdm import tqdm\n",
    "\n",
    "def convert_png_to_jpg_with_progress(source_folder, target_folder):\n",
    "    \"\"\"\n",
    "    Convert all PNG images in a folder to JPG format with a progress bar.\n",
    "\n",
    "    Parameters:\n",
    "    - source_folder: Folder containing PNG images.\n",
    "    - target_folder: Folder where JPG images will be saved.\n",
    "    \"\"\"\n",
    "    # 确保目标文件夹存在\n",
    "    if not os.path.exists(target_folder):\n",
    "        os.makedirs(target_folder)\n",
    "    \n",
    "    # 获取所有PNG文件\n",
    "    png_files = [f for f in os.listdir(source_folder) if f.endswith(\".png\")]\n",
    "    \n",
    "    # 使用tqdm显示进度条\n",
    "    for filename in tqdm(png_files, desc=\"Converting PNG to JPG\"):\n",
    "        basename, extension = os.path.splitext(filename)\n",
    "        source_path = os.path.join(source_folder, filename)\n",
    "        target_path = os.path.join(target_folder, basename + \".jpg\")\n",
    "        \n",
    "        # 打开并转换图像\n",
    "        with Image.open(source_path) as img:\n",
    "            rgb_im = img.convert('RGB')  # 转换为RGB模式以便正确保存为JPG\n",
    "            rgb_im.save(target_path, \"JPEG\")\n",
    "        \n",
    "        # print(f\"Converted {filename} to JPG format.\")\n",
    "\n"
   ]
  },
  {
   "cell_type": "code",
   "execution_count": 8,
   "id": "62db7355",
   "metadata": {},
   "outputs": [
    {
     "name": "stderr",
     "output_type": "stream",
     "text": [
      "Converting PNG to JPG: 100%|██████████| 256/256 [00:02<00:00, 106.66it/s]\n"
     ]
    }
   ],
   "source": [
    "# 使用示例\n",
    "idname = 'justin'\n",
    "source_folder = f'/root/autodl-tmp/FlashAvatar-code/metrical-tracker/output/{idname}/input'  # PNG图像的源文件夹路径\n",
    "target_folder = f'/root/autodl-tmp/FlashAvatar-code/dataset/{idname}/imgs'  # JPG图像的目标文件夹路径\n",
    "\n",
    "convert_png_to_jpg_with_progress(source_folder, target_folder)"
   ]
  },
  {
   "cell_type": "markdown",
   "id": "d97b4632",
   "metadata": {},
   "source": [
    "### 图像分割\n",
    "准备mask图像，segmentaion"
   ]
  },
  {
   "cell_type": "code",
   "execution_count": 4,
   "id": "59f12a0b-a28f-4841-bb45-44146ea065eb",
   "metadata": {},
   "outputs": [],
   "source": [
    "from logger import setup_logger\n",
    "from model import BiSeNet\n",
    "import torch\n",
    "import os\n",
    "import os.path as osp\n",
    "import numpy as np\n",
    "from PIL import Image\n",
    "import torchvision.transforms as transforms\n",
    "import cv2\n",
    "from tqdm import tqdm\n",
    "\n",
    "def evaluate(dspth='./data', respth_alpha='./alpha', respth_parsing='./parsing', cp='model_final_diss.pth'):\n",
    "    if not os.path.exists(respth_alpha):\n",
    "        os.makedirs(respth_alpha)\n",
    "    if not os.path.exists(respth_parsing):\n",
    "        os.makedirs(respth_parsing)\n",
    "\n",
    "    n_classes = 19  # 总共19个类别\n",
    "    net = BiSeNet(n_classes=n_classes)\n",
    "    net.cuda()\n",
    "    save_pth = osp.join('res/cp', cp)\n",
    "    net.load_state_dict(torch.load(save_pth))\n",
    "    net.eval()\n",
    "\n",
    "    to_tensor = transforms.Compose([\n",
    "        transforms.ToTensor(),\n",
    "        transforms.Normalize((0.485, 0.456, 0.406), (0.229, 0.224, 0.225)),\n",
    "    ])\n",
    "    with torch.no_grad():\n",
    "        for image_path in tqdm([f for f in os.listdir(dspth) if f.endswith('.jpg')], desc='Processing'):\n",
    "            img = Image.open(osp.join(dspth, image_path))\n",
    "            image = img.resize((512, 512), Image.BILINEAR)\n",
    "            img = to_tensor(image)\n",
    "            img = torch.unsqueeze(img, 0)\n",
    "            img = img.cuda()\n",
    "            out = net(img)[0]\n",
    "            parsing = out.squeeze(0).cpu().numpy().argmax(0)\n",
    "\n",
    "            # 生成人物和背景的mask（类别1-17）\n",
    "            mask_segment = np.isin(parsing, np.arange(1, 18)).astype(np.uint8)\n",
    "\n",
    "            # 保存人物和背景的mask到alpha目录\n",
    "            cv2.imwrite(osp.join(respth_alpha, os.path.splitext(image_path)[0] + '_segment.jpg'), mask_segment * 255)\n",
    "\n",
    "            # 根据类别生成脖子+头部mask，排除衣服(16)\n",
    "            mask_neck_head = mask_segment.copy()\n",
    "            mask_neck_head[parsing == 16] = 0  # 排除衣服\n",
    "            # 生成嘴部mask\n",
    "            mask_mouth = np.isin(parsing, [11, 12, 13]).astype(np.uint8)\n",
    "\n",
    "            # 保存脖子+头部的mask和嘴部的mask到parsing目录\n",
    "            cv2.imwrite(osp.join(respth_parsing, os.path.splitext(image_path)[0] + '_neckhead.png'), mask_neck_head * 255)\n",
    "            cv2.imwrite(osp.join(respth_parsing, os.path.splitext(image_path)[0] + '_mouth.png'), mask_mouth * 255)\n",
    "\n"
   ]
  },
  {
   "cell_type": "code",
   "execution_count": 9,
   "id": "02b55c43-0306-44c9-8c6d-c1cbb56b402d",
   "metadata": {},
   "outputs": [
    {
     "name": "stderr",
     "output_type": "stream",
     "text": [
      "Processing: 100%|██████████| 256/256 [00:09<00:00, 27.40it/s]\n"
     ]
    }
   ],
   "source": [
    "idname = 'justin'\n",
    "\n",
    "input_dir = f'/root/autodl-tmp/FlashAvatar-code/dataset/{idname}/imgs'  # 输入目录\n",
    "output_dir_alpha = f'/root/autodl-tmp/FlashAvatar-code/dataset/{idname}/alpha' # 人物和背景mask的输出目录\n",
    "output_dir_parsing = f'/root/autodl-tmp/FlashAvatar-code/dataset/{idname}/parsing' # 其他mask的输出目录\n",
    "\n",
    "# 运行分割\n",
    "evaluate(dspth=input_dir, respth_alpha=output_dir_alpha, respth_parsing=output_dir_parsing, cp='79999_iter.pth')"
   ]
  },
  {
   "cell_type": "code",
   "execution_count": null,
   "id": "844e2c73",
   "metadata": {},
   "outputs": [],
   "source": []
  }
 ],
 "metadata": {
  "kernelspec": {
   "display_name": "Python 3 (ipykernel)",
   "language": "python",
   "name": "python3"
  },
  "language_info": {
   "codemirror_mode": {
    "name": "ipython",
    "version": 3
   },
   "file_extension": ".py",
   "mimetype": "text/x-python",
   "name": "python",
   "nbconvert_exporter": "python",
   "pygments_lexer": "ipython3",
   "version": "3.8.10"
  }
 },
 "nbformat": 4,
 "nbformat_minor": 5
}
